{
  "nbformat": 4,
  "nbformat_minor": 0,
  "metadata": {
    "colab": {
      "provenance": [],
      "include_colab_link": true
    },
    "kernelspec": {
      "name": "python3",
      "display_name": "Python 3"
    },
    "language_info": {
      "name": "python"
    }
  },
  "cells": [
    {
      "cell_type": "markdown",
      "metadata": {
        "id": "view-in-github",
        "colab_type": "text"
      },
      "source": [
        "<a href=\"https://colab.research.google.com/github/2303a51095/AIML/blob/main/lab_assignment_4_ipynb.ipynb\" target=\"_parent\"><img src=\"https://colab.research.google.com/assets/colab-badge.svg\" alt=\"Open In Colab\"/></a>"
      ]
    },
    {
      "cell_type": "markdown",
      "source": [
        "# **1 Implement Linear Regression Model Using US Housing Data**"
      ],
      "metadata": {
        "id": "TbCp-NsvVrpE"
      }
    },
    {
      "cell_type": "markdown",
      "source": [
        "##Part 1 – Import the required Python, Pandas, Matplotlib, Seaborn packages.\n",
        "##[CO2] ##"
      ],
      "metadata": {
        "id": "BRzAiD2lV0yB"
      }
    },
    {
      "cell_type": "markdown",
      "source": [
        "###1. Load the US Housing data into a dataframe using pandas"
      ],
      "metadata": {
        "id": "DY7cGCHCWVOF"
      }
    },
    {
      "cell_type": "code",
      "source": [
        "import pandas as pd\n",
        "import matplotlib.pyplot as plt\n",
        "import seaborn as sns\n",
        "from sklearn.model_selection import train_test_split\n",
        "from sklearn.linear_model import LinearRegression\n",
        "from sklearn import metrics\n",
        "from google.colab import files"
      ],
      "metadata": {
        "id": "w89GbMJaWXzL"
      },
      "execution_count": null,
      "outputs": []
    },
    {
      "cell_type": "markdown",
      "source": [
        "###2. Check the data types of each feature(column) in the dataset."
      ],
      "metadata": {
        "id": "5-pQ2rmkWrpq"
      }
    },
    {
      "cell_type": "code",
      "source": [
        "uploaded = files.upload()"
      ],
      "metadata": {
        "colab": {
          "base_uri": "https://localhost:8080/",
          "height": 73
        },
        "id": "-QcxBKOsbW_B",
        "outputId": "6fda8585-a0dc-4b3d-cfd5-64462c7e6a44"
      },
      "execution_count": null,
      "outputs": [
        {
          "output_type": "display_data",
          "data": {
            "text/plain": [
              "<IPython.core.display.HTML object>"
            ],
            "text/html": [
              "\n",
              "     <input type=\"file\" id=\"files-58022ccf-9ba1-4efe-acf6-f2d1589525c1\" name=\"files[]\" multiple disabled\n",
              "        style=\"border:none\" />\n",
              "     <output id=\"result-58022ccf-9ba1-4efe-acf6-f2d1589525c1\">\n",
              "      Upload widget is only available when the cell has been executed in the\n",
              "      current browser session. Please rerun this cell to enable.\n",
              "      </output>\n",
              "      <script>// Copyright 2017 Google LLC\n",
              "//\n",
              "// Licensed under the Apache License, Version 2.0 (the \"License\");\n",
              "// you may not use this file except in compliance with the License.\n",
              "// You may obtain a copy of the License at\n",
              "//\n",
              "//      http://www.apache.org/licenses/LICENSE-2.0\n",
              "//\n",
              "// Unless required by applicable law or agreed to in writing, software\n",
              "// distributed under the License is distributed on an \"AS IS\" BASIS,\n",
              "// WITHOUT WARRANTIES OR CONDITIONS OF ANY KIND, either express or implied.\n",
              "// See the License for the specific language governing permissions and\n",
              "// limitations under the License.\n",
              "\n",
              "/**\n",
              " * @fileoverview Helpers for google.colab Python module.\n",
              " */\n",
              "(function(scope) {\n",
              "function span(text, styleAttributes = {}) {\n",
              "  const element = document.createElement('span');\n",
              "  element.textContent = text;\n",
              "  for (const key of Object.keys(styleAttributes)) {\n",
              "    element.style[key] = styleAttributes[key];\n",
              "  }\n",
              "  return element;\n",
              "}\n",
              "\n",
              "// Max number of bytes which will be uploaded at a time.\n",
              "const MAX_PAYLOAD_SIZE = 100 * 1024;\n",
              "\n",
              "function _uploadFiles(inputId, outputId) {\n",
              "  const steps = uploadFilesStep(inputId, outputId);\n",
              "  const outputElement = document.getElementById(outputId);\n",
              "  // Cache steps on the outputElement to make it available for the next call\n",
              "  // to uploadFilesContinue from Python.\n",
              "  outputElement.steps = steps;\n",
              "\n",
              "  return _uploadFilesContinue(outputId);\n",
              "}\n",
              "\n",
              "// This is roughly an async generator (not supported in the browser yet),\n",
              "// where there are multiple asynchronous steps and the Python side is going\n",
              "// to poll for completion of each step.\n",
              "// This uses a Promise to block the python side on completion of each step,\n",
              "// then passes the result of the previous step as the input to the next step.\n",
              "function _uploadFilesContinue(outputId) {\n",
              "  const outputElement = document.getElementById(outputId);\n",
              "  const steps = outputElement.steps;\n",
              "\n",
              "  const next = steps.next(outputElement.lastPromiseValue);\n",
              "  return Promise.resolve(next.value.promise).then((value) => {\n",
              "    // Cache the last promise value to make it available to the next\n",
              "    // step of the generator.\n",
              "    outputElement.lastPromiseValue = value;\n",
              "    return next.value.response;\n",
              "  });\n",
              "}\n",
              "\n",
              "/**\n",
              " * Generator function which is called between each async step of the upload\n",
              " * process.\n",
              " * @param {string} inputId Element ID of the input file picker element.\n",
              " * @param {string} outputId Element ID of the output display.\n",
              " * @return {!Iterable<!Object>} Iterable of next steps.\n",
              " */\n",
              "function* uploadFilesStep(inputId, outputId) {\n",
              "  const inputElement = document.getElementById(inputId);\n",
              "  inputElement.disabled = false;\n",
              "\n",
              "  const outputElement = document.getElementById(outputId);\n",
              "  outputElement.innerHTML = '';\n",
              "\n",
              "  const pickedPromise = new Promise((resolve) => {\n",
              "    inputElement.addEventListener('change', (e) => {\n",
              "      resolve(e.target.files);\n",
              "    });\n",
              "  });\n",
              "\n",
              "  const cancel = document.createElement('button');\n",
              "  inputElement.parentElement.appendChild(cancel);\n",
              "  cancel.textContent = 'Cancel upload';\n",
              "  const cancelPromise = new Promise((resolve) => {\n",
              "    cancel.onclick = () => {\n",
              "      resolve(null);\n",
              "    };\n",
              "  });\n",
              "\n",
              "  // Wait for the user to pick the files.\n",
              "  const files = yield {\n",
              "    promise: Promise.race([pickedPromise, cancelPromise]),\n",
              "    response: {\n",
              "      action: 'starting',\n",
              "    }\n",
              "  };\n",
              "\n",
              "  cancel.remove();\n",
              "\n",
              "  // Disable the input element since further picks are not allowed.\n",
              "  inputElement.disabled = true;\n",
              "\n",
              "  if (!files) {\n",
              "    return {\n",
              "      response: {\n",
              "        action: 'complete',\n",
              "      }\n",
              "    };\n",
              "  }\n",
              "\n",
              "  for (const file of files) {\n",
              "    const li = document.createElement('li');\n",
              "    li.append(span(file.name, {fontWeight: 'bold'}));\n",
              "    li.append(span(\n",
              "        `(${file.type || 'n/a'}) - ${file.size} bytes, ` +\n",
              "        `last modified: ${\n",
              "            file.lastModifiedDate ? file.lastModifiedDate.toLocaleDateString() :\n",
              "                                    'n/a'} - `));\n",
              "    const percent = span('0% done');\n",
              "    li.appendChild(percent);\n",
              "\n",
              "    outputElement.appendChild(li);\n",
              "\n",
              "    const fileDataPromise = new Promise((resolve) => {\n",
              "      const reader = new FileReader();\n",
              "      reader.onload = (e) => {\n",
              "        resolve(e.target.result);\n",
              "      };\n",
              "      reader.readAsArrayBuffer(file);\n",
              "    });\n",
              "    // Wait for the data to be ready.\n",
              "    let fileData = yield {\n",
              "      promise: fileDataPromise,\n",
              "      response: {\n",
              "        action: 'continue',\n",
              "      }\n",
              "    };\n",
              "\n",
              "    // Use a chunked sending to avoid message size limits. See b/62115660.\n",
              "    let position = 0;\n",
              "    do {\n",
              "      const length = Math.min(fileData.byteLength - position, MAX_PAYLOAD_SIZE);\n",
              "      const chunk = new Uint8Array(fileData, position, length);\n",
              "      position += length;\n",
              "\n",
              "      const base64 = btoa(String.fromCharCode.apply(null, chunk));\n",
              "      yield {\n",
              "        response: {\n",
              "          action: 'append',\n",
              "          file: file.name,\n",
              "          data: base64,\n",
              "        },\n",
              "      };\n",
              "\n",
              "      let percentDone = fileData.byteLength === 0 ?\n",
              "          100 :\n",
              "          Math.round((position / fileData.byteLength) * 100);\n",
              "      percent.textContent = `${percentDone}% done`;\n",
              "\n",
              "    } while (position < fileData.byteLength);\n",
              "  }\n",
              "\n",
              "  // All done.\n",
              "  yield {\n",
              "    response: {\n",
              "      action: 'complete',\n",
              "    }\n",
              "  };\n",
              "}\n",
              "\n",
              "scope.google = scope.google || {};\n",
              "scope.google.colab = scope.google.colab || {};\n",
              "scope.google.colab._files = {\n",
              "  _uploadFiles,\n",
              "  _uploadFilesContinue,\n",
              "};\n",
              "})(self);\n",
              "</script> "
            ]
          },
          "metadata": {}
        },
        {
          "output_type": "stream",
          "name": "stdout",
          "text": [
            "Saving USA_Housing[1].csv to USA_Housing[1] (1).csv\n"
          ]
        }
      ]
    },
    {
      "cell_type": "markdown",
      "source": [
        "###Part 1.2 - Load the US Housing data into a dataframe using pandas"
      ],
      "metadata": {
        "id": "np881SSybYDG"
      }
    },
    {
      "cell_type": "code",
      "source": [
        "df = pd.read_csv('USA_Housing[1].csv')"
      ],
      "metadata": {
        "id": "7em1uekTbrV5"
      },
      "execution_count": null,
      "outputs": []
    },
    {
      "cell_type": "markdown",
      "source": [
        "###Part 1.3 - Check the data types of each feature (column) in the dataset"
      ],
      "metadata": {
        "id": "I8A7GcAFbtcB"
      }
    },
    {
      "cell_type": "code",
      "source": [
        "print(df.dtypes)"
      ],
      "metadata": {
        "colab": {
          "base_uri": "https://localhost:8080/",
          "height": 141
        },
        "id": "9091DO_Pb6Q4",
        "outputId": "89c2df50-5a31-4847-f32a-b8e3c4866207"
      },
      "execution_count": null,
      "outputs": [
        {
          "output_type": "error",
          "ename": "NameError",
          "evalue": "name 'df' is not defined",
          "traceback": [
            "\u001b[0;31m---------------------------------------------------------------------------\u001b[0m",
            "\u001b[0;31mNameError\u001b[0m                                 Traceback (most recent call last)",
            "\u001b[0;32m<ipython-input-9-42a6bcf1a5e9>\u001b[0m in \u001b[0;36m<cell line: 1>\u001b[0;34m()\u001b[0m\n\u001b[0;32m----> 1\u001b[0;31m \u001b[0mprint\u001b[0m\u001b[0;34m(\u001b[0m\u001b[0mdf\u001b[0m\u001b[0;34m.\u001b[0m\u001b[0mdtypes\u001b[0m\u001b[0;34m)\u001b[0m\u001b[0;34m\u001b[0m\u001b[0;34m\u001b[0m\u001b[0m\n\u001b[0m",
            "\u001b[0;31mNameError\u001b[0m: name 'df' is not defined"
          ]
        }
      ]
    },
    {
      "cell_type": "markdown",
      "source": [
        "###Part 1.4 - Generate a summary of the dataset for min, max, stddev, quartile values for 25%, 50%, 75%, 90%"
      ],
      "metadata": {
        "id": "lY_7hmZOb8jL"
      }
    },
    {
      "cell_type": "code",
      "source": [
        "print(df.describe(percentiles=[.25, .5, .75, .9]))"
      ],
      "metadata": {
        "id": "Ggne3oejcCYt"
      },
      "execution_count": null,
      "outputs": []
    },
    {
      "cell_type": "markdown",
      "source": [
        "###Part 1.5 - List the names of columns/features in the dataset"
      ],
      "metadata": {
        "id": "-txVdq7CcLFv"
      }
    },
    {
      "cell_type": "code",
      "source": [
        "print(df.columns)"
      ],
      "metadata": {
        "id": "7i4rYf6EcNHq"
      },
      "execution_count": null,
      "outputs": []
    },
    {
      "cell_type": "markdown",
      "source": [
        "###Part 1.6 - Generate a pairplot of the features of the dataset"
      ],
      "metadata": {
        "id": "NYa69QhecQrE"
      }
    },
    {
      "cell_type": "code",
      "source": [
        "sns.pairplot(df)\n",
        "plt.show()"
      ],
      "metadata": {
        "id": "gfv6TynmcV9-",
        "colab": {
          "base_uri": "https://localhost:8080/",
          "height": 158
        },
        "outputId": "12d2120a-e3f9-4d82-e50d-2f373fc67373"
      },
      "execution_count": null,
      "outputs": [
        {
          "output_type": "error",
          "ename": "NameError",
          "evalue": "name 'df' is not defined",
          "traceback": [
            "\u001b[0;31m---------------------------------------------------------------------------\u001b[0m",
            "\u001b[0;31mNameError\u001b[0m                                 Traceback (most recent call last)",
            "\u001b[0;32m<ipython-input-5-e0b07b2c8f3a>\u001b[0m in \u001b[0;36m<cell line: 1>\u001b[0;34m()\u001b[0m\n\u001b[0;32m----> 1\u001b[0;31m \u001b[0msns\u001b[0m\u001b[0;34m.\u001b[0m\u001b[0mpairplot\u001b[0m\u001b[0;34m(\u001b[0m\u001b[0mdf\u001b[0m\u001b[0;34m)\u001b[0m\u001b[0;34m\u001b[0m\u001b[0;34m\u001b[0m\u001b[0m\n\u001b[0m\u001b[1;32m      2\u001b[0m \u001b[0mplt\u001b[0m\u001b[0;34m.\u001b[0m\u001b[0mshow\u001b[0m\u001b[0;34m(\u001b[0m\u001b[0;34m)\u001b[0m\u001b[0;34m\u001b[0m\u001b[0;34m\u001b[0m\u001b[0m\n",
            "\u001b[0;31mNameError\u001b[0m: name 'df' is not defined"
          ]
        }
      ]
    },
    {
      "cell_type": "markdown",
      "source": [
        "###Part 1.7 - Generate a correlation matrix and heatmap for the features"
      ],
      "metadata": {
        "id": "O0sFwF_ycYUo"
      }
    },
    {
      "cell_type": "code",
      "source": [
        "corr_matrix = df.corr()\n",
        "plt.figure(figsize=(10, 8))  # Optional: Improve visualization by adjusting the figure size\n",
        "sns.heatmap(corr_matrix, annot=True, cmap='coolwarm')\n",
        "plt.show()"
      ],
      "metadata": {
        "id": "Y7Vt6KA-ceAm"
      },
      "execution_count": null,
      "outputs": []
    },
    {
      "cell_type": "markdown",
      "source": [
        "###Part 1.8 - Create a list of dependent and independent variables to understand regression among the features"
      ],
      "metadata": {
        "id": "bqDeROAmcnzq"
      }
    },
    {
      "cell_type": "code",
      "source": [
        "X = df[['Avg. Area Income', 'Avg. Area House Age', 'Avg. Area Number of Rooms', 'Avg. Area Number of Bedrooms', 'Area Population']]\n",
        "Y = df['Price']"
      ],
      "metadata": {
        "id": "viA3jzGBcrst"
      },
      "execution_count": null,
      "outputs": []
    },
    {
      "cell_type": "markdown",
      "source": [
        "#*Part 2 - Model Training and Fit the Data to Model"
      ],
      "metadata": {
        "id": "UgGpuLlzcvI-"
      }
    },
    {
      "cell_type": "markdown",
      "source": [
        "###Part 2.1 - Split the data into train and test sets"
      ],
      "metadata": {
        "id": "9g8ZAsRec3KY"
      }
    },
    {
      "cell_type": "code",
      "source": [
        "X_train, X_test, Y_train, Y_test = train_test_split(X, Y, test_size=0.2, random_state=42)"
      ],
      "metadata": {
        "id": "3dv8WJphdFhs"
      },
      "execution_count": null,
      "outputs": []
    },
    {
      "cell_type": "markdown",
      "source": [
        "###Part 2.2 - Apply the linear regression model of sklearn package"
      ],
      "metadata": {
        "id": "j5yJbrYzdIQA"
      }
    },
    {
      "cell_type": "code",
      "source": [
        "model = LinearRegression()"
      ],
      "metadata": {
        "id": "VECY9BsAdM3s"
      },
      "execution_count": null,
      "outputs": []
    },
    {
      "cell_type": "markdown",
      "source": [
        "###Part 2.3 - Fit the data to the Linear Model using fit"
      ],
      "metadata": {
        "id": "RSHtmpyVdO-k"
      }
    },
    {
      "cell_type": "code",
      "source": [
        "model.fit(X_train, Y_train)"
      ],
      "metadata": {
        "id": "X62GLUoVdUHT"
      },
      "execution_count": null,
      "outputs": []
    },
    {
      "cell_type": "markdown",
      "source": [
        "###Part 2.4 - Check the intercepts and slope for the data"
      ],
      "metadata": {
        "id": "aDs7m7zFdWZR"
      }
    },
    {
      "cell_type": "code",
      "source": [
        "intercept = model.intercept_\n",
        "coefficients = model.coef_\n",
        "print(f\"Intercept: {intercept}\")\n",
        "print(f\"Coefficients: {coefficients}\")"
      ],
      "metadata": {
        "id": "k6rmTH7GdfAv"
      },
      "execution_count": null,
      "outputs": []
    },
    {
      "cell_type": "markdown",
      "source": [
        "#*Part 3 – Model Evaluation Metrics"
      ],
      "metadata": {
        "id": "WNyq1FuEdmpm"
      }
    },
    {
      "cell_type": "markdown",
      "source": [
        "###Part 3.1 - Calculate the standard error and t-statistic for the coefficients using statsmodels"
      ],
      "metadata": {
        "id": "kUdORADRdqOC"
      }
    },
    {
      "cell_type": "code",
      "source": [
        "import statsmodels.api as sm\n",
        "\n",
        "X_train_sm = sm.add_constant(X_train)\n",
        "model_sm = sm.OLS(Y_train, X_train_sm).fit()\n",
        "print(model_sm.summary())"
      ],
      "metadata": {
        "id": "BAfWcvygd4b_"
      },
      "execution_count": null,
      "outputs": []
    },
    {
      "cell_type": "markdown",
      "source": [
        " ###Part 3.2 - Generate scatter plots for other features considering price as dependent variable"
      ],
      "metadata": {
        "id": "AY_6Y8tceF7S"
      }
    },
    {
      "cell_type": "code",
      "source": [
        "plt.scatter(X_test['Avg. Area Income'], Y_test, color='blue')\n",
        "plt.plot(X_test['Avg. Area Income'], model.predict(X_test), color='red')\n",
        "plt.title('Avg. Area Income vs Price')\n",
        "plt.xlabel('Avg. Area Income')\n",
        "plt.ylabel('Price')\n",
        "plt.show()"
      ],
      "metadata": {
        "id": "OydTLkCpehZR"
      },
      "execution_count": null,
      "outputs": []
    },
    {
      "cell_type": "markdown",
      "source": [
        "###Part 3.3 - Compute the R^2 for the coefficients using metrics.r2_score()"
      ],
      "metadata": {
        "id": "0s3X23PAejPk"
      }
    },
    {
      "cell_type": "code",
      "source": [
        "r2_score = metrics.r2_score(Y_test, model.predict(X_test))\n",
        "print(f\"R^2 score: {r2_score}\")"
      ],
      "metadata": {
        "id": "1d2BeQ3senYf"
      },
      "execution_count": null,
      "outputs": []
    },
    {
      "cell_type": "markdown",
      "source": [
        "###Part 3.4 - Plot the predictions of Linear Regression Model - histogram, scatterplo"
      ],
      "metadata": {
        "id": "2zJ4ydZiepkf"
      }
    },
    {
      "cell_type": "code",
      "source": [
        "plt.hist(Y_test - model.predict(X_test), bins=20)\n",
        "plt.title('Histogram of Prediction Errors')\n",
        "plt.xlabel('Prediction Error')\n",
        "plt.ylabel('Frequency')\n",
        "plt.show()"
      ],
      "metadata": {
        "id": "JBrvEkwte2FV"
      },
      "execution_count": null,
      "outputs": []
    },
    {
      "cell_type": "markdown",
      "source": [
        "###Part 3.5 - Generate the evaluation regression error metrics - MAE, MSE, RMSE, R2 using metrics"
      ],
      "metadata": {
        "id": "E91AHnMse4oe"
      }
    },
    {
      "cell_type": "code",
      "source": [
        "mae = metrics.mean_absolute_error(Y_test, model.predict(X_test))\n",
        "mse = metrics.mean_squared_error(Y_test, model.predict(X_test))\n",
        "rmse = mse**0.5\n",
        "r2 = metrics.r2_score(Y_test, model.predict(X_test))\n",
        "\n",
        "print(f\"MAE: {mae}\")\n",
        "print(f\"MSE: {mse}\")\n",
        "print(f\"RMSE: {rmse}\")\n",
        "print(f\"R^2: {r2}\")"
      ],
      "metadata": {
        "id": "ipqYHxsye9G2"
      },
      "execution_count": null,
      "outputs": []
    },
    {
      "cell_type": "markdown",
      "source": [
        "#Part 4 - Compute the MinMax value between Observed Price and Expected Price for the US Housing Data."
      ],
      "metadata": {
        "id": "lYqcZ7pJfAx8"
      }
    },
    {
      "cell_type": "markdown",
      "source": [
        "###Part 4.1 - Write the python code to compute MinMax value of a Feature within Housing data."
      ],
      "metadata": {
        "id": "hc99yiZhfGqr"
      }
    },
    {
      "cell_type": "code",
      "source": [
        "def min_max_scaling(series):\n",
        "    return (series - series.min()) / (series.max() - series.min())"
      ],
      "metadata": {
        "id": "7gOFPu13fRTv"
      },
      "execution_count": null,
      "outputs": []
    },
    {
      "cell_type": "markdown",
      "source": [
        "###Normalize the 'Price' column"
      ],
      "metadata": {
        "id": "FR97WDEdfUpT"
      }
    },
    {
      "cell_type": "code",
      "source": [
        "df['Price_Normalized'] = min_max_scaling(df['Price'])"
      ],
      "metadata": {
        "id": "A47jSSyyfX9F"
      },
      "execution_count": null,
      "outputs": []
    },
    {
      "cell_type": "markdown",
      "source": [
        "###Part 4.2 - Normalize the data and Print the MinMax value, plot the distribution of feature."
      ],
      "metadata": {
        "id": "_awuwkWsfaZi"
      }
    },
    {
      "cell_type": "code",
      "source": [
        "print(df['Price_Normalized'])\n",
        "\n",
        "plt.hist(df['Price_Normalized'], bins=20)\n",
        "plt.title('Distribution of Normalized Price')\n",
        "plt.xlabel('Normalized Price')\n",
        "plt.ylabel('Frequency')\n",
        "plt.show()"
      ],
      "metadata": {
        "id": "8EE56Xl5ffNf"
      },
      "execution_count": null,
      "outputs": []
    }
  ]
}